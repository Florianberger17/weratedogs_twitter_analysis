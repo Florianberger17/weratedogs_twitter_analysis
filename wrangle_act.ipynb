{
 "cells": [
  {
   "cell_type": "markdown",
   "metadata": {},
   "source": [
    "# Project: Wrangle and Analyze Data\n",
    "\n",
    "## Table of Contents\n",
    "<ul>\n",
    "<li><a href=\"#intro\">Introduction</a></li>\n",
    "<li><a href=\"#wrangling\">Data Wrangling</a></li>\n",
    "<li><a href=\"#analysis\">Data Analysis</a></li>\n",
    "<li><a href=\"#insights\">Insights</a></li>\n",
    "</ul>"
   ]
  },
  {
   "cell_type": "markdown",
   "metadata": {},
   "source": [
    "<a id='intro'></a>\n",
    "## Introduction\n",
    "\n",
    "Within this porject data from the WeRateDogs Twitter account will be cleaned, analyzed and interesting aspects will be visualized."
   ]
  },
  {
   "cell_type": "code",
   "execution_count": 1,
   "metadata": {},
   "outputs": [],
   "source": [
    "# Importing libraries\n",
    "import pandas as pd\n",
    "import numpy as np\n",
    "import matplotlib.pyplot as plt\n",
    "import requests\n",
    "import os\n",
    "import json\n",
    "import tweepy"
   ]
  },
  {
   "cell_type": "markdown",
   "metadata": {},
   "source": [
    "<a id='wrangling'></a>\n",
    "## Data Wrangling\n",
    "Subsequently Data Wrangling is performed for the project data. Goal is to generate a basic understanding of the data and bringing it into a state from which further analysis can be conducted.\n",
    "\n",
    "### a. Gather\n",
    "First step is to access the process data, so the dataset with the project data is generated from a csv-file.\n",
    "\n",
    "#### I. Downloaded csv-file"
   ]
  },
  {
   "cell_type": "code",
   "execution_count": 2,
   "metadata": {},
   "outputs": [],
   "source": [
    "# Create dataframe df1 from downloaded csv-file\n",
    "df1 = pd.read_csv('twitter-archive-enhanced.csv')"
   ]
  },
  {
   "cell_type": "markdown",
   "metadata": {},
   "source": [
    "#### II: Programmatical download from provided URL"
   ]
  },
  {
   "cell_type": "code",
   "execution_count": 3,
   "metadata": {},
   "outputs": [],
   "source": [
    "# Create new folder named 'twitter' if it doesn't exist yet\n",
    "folder_name = 'twitter'\n",
    "if not os.path.exists(folder_name):\n",
    "    os.makedirs(folder_name)\n",
    "\n",
    "# Request file via specified URL\n",
    "url = 'https://d17h27t6h515a5.cloudfront.net/topher/2017/August/599fd2ad_image-predictions/image-predictions.tsv'\n",
    "response = requests.get(url)\n",
    "\n",
    "# Save file in created folder\n",
    "with open(os.path.join(folder_name, url.split('/')[7]), mode='wb') as file:\n",
    "    file.write(response.content)"
   ]
  },
  {
   "cell_type": "code",
   "execution_count": 4,
   "metadata": {},
   "outputs": [],
   "source": [
    "# Create dataframe df2 from downloaded csv-file\n",
    "df2 = pd.read_csv('twitter/image-predictions.tsv', sep = '\\t')"
   ]
  },
  {
   "cell_type": "markdown",
   "metadata": {},
   "source": [
    "#### III: Scraping additional data from twitter API"
   ]
  },
  {
   "cell_type": "code",
   "execution_count": 5,
   "metadata": {},
   "outputs": [],
   "source": [
    "# Authentification process\n",
    "consumer_key = ''\n",
    "consumer_secret = ''\n",
    "access_token = ''\n",
    "access_secret = ''\n",
    "\n",
    "auth = tweepy.OAuthHandler(consumer_key, consumer_secret)\n",
    "auth.set_access_token(access_token, access_secret)\n",
    "\n",
    "api = tweepy.API(auth)\n",
    "\n",
    "# Make sure that when requesting data via tweepy API Rate limit isn't exceeded\n",
    "api = tweepy.API(auth, wait_on_rate_limit=True)"
   ]
  },
  {
   "cell_type": "code",
   "execution_count": 6,
   "metadata": {},
   "outputs": [],
   "source": [
    "# Create list with 'tweet_IDs' from df1 in order to search for via tweepy API\n",
    "id_list = df1['tweet_id'].copy().tolist()"
   ]
  },
  {
   "cell_type": "code",
   "execution_count": 7,
   "metadata": {},
   "outputs": [],
   "source": [
    "# Request additional data 'tweet_text', 'favourite_count' and 'retweet_count' via API\n",
    "df_list = []\n",
    "exceptions_list = []\n",
    "\n",
    "for tweet_id in id_list:\n",
    "    try:\n",
    "        tweet = api.get_status(tweet_id, tweet_mode='extended')\n",
    "        # Create json str from tweepy.models.Status\n",
    "        json_str = json.dumps(tweet._json)\n",
    "        # Create json from json_str\n",
    "        json_file = json.loads(json_str)\n",
    "\n",
    "        # Extract data from json\n",
    "        tweet_favc = json_file['favorite_count']\n",
    "        retw_count = json_file['retweet_count']\n",
    "        \n",
    "        # Append data to df_list\n",
    "        df_list.append({'tweet_id':tweet_id,\n",
    "                       'favourite_count':tweet_favc,\n",
    "                       'retweet_count':retw_count})\n",
    "    # If exception write 'tweet_id' into exceptions_list\n",
    "    except Exception as e:\n",
    "        exceptions_list.append(tweet_id)\n",
    "\n",
    "# Create df3 from df_list        \n",
    "df3 = pd.DataFrame(df_list, columns = ['tweet_id', 'favourite_count', 'retweet_count'])"
   ]
  },
  {
   "cell_type": "markdown",
   "metadata": {},
   "source": [
    "#### IV. Joining df1 and df3 to one single dataframe df1"
   ]
  },
  {
   "cell_type": "code",
   "execution_count": 8,
   "metadata": {},
   "outputs": [],
   "source": [
    "df1 = df1.join(df3.set_index('tweet_id'), on = 'tweet_id')"
   ]
  },
  {
   "cell_type": "markdown",
   "metadata": {},
   "source": [
    "### b. Assess\n",
    "In order to sufficiently understand the project data, the shape, rows and columens as well as the datatypes and mean values are examined.\n",
    "\n",
    "#### I. Visual assessment of df1 and df2"
   ]
  },
  {
   "cell_type": "code",
   "execution_count": 468,
   "metadata": {},
   "outputs": [
    {
     "data": {
      "text/html": [
       "<div>\n",
       "<style scoped>\n",
       "    .dataframe tbody tr th:only-of-type {\n",
       "        vertical-align: middle;\n",
       "    }\n",
       "\n",
       "    .dataframe tbody tr th {\n",
       "        vertical-align: top;\n",
       "    }\n",
       "\n",
       "    .dataframe thead th {\n",
       "        text-align: right;\n",
       "    }\n",
       "</style>\n",
       "<table border=\"1\" class=\"dataframe\">\n",
       "  <thead>\n",
       "    <tr style=\"text-align: right;\">\n",
       "      <th></th>\n",
       "      <th>tweet_id</th>\n",
       "      <th>in_reply_to_status_id</th>\n",
       "      <th>in_reply_to_user_id</th>\n",
       "      <th>timestamp</th>\n",
       "      <th>source</th>\n",
       "      <th>text</th>\n",
       "      <th>retweeted_status_id</th>\n",
       "      <th>retweeted_status_user_id</th>\n",
       "      <th>retweeted_status_timestamp</th>\n",
       "      <th>expanded_urls</th>\n",
       "      <th>rating_numerator</th>\n",
       "      <th>rating_denominator</th>\n",
       "      <th>name</th>\n",
       "      <th>doggo</th>\n",
       "      <th>floofer</th>\n",
       "      <th>pupper</th>\n",
       "      <th>puppo</th>\n",
       "      <th>favourite_count</th>\n",
       "      <th>retweet_count</th>\n",
       "    </tr>\n",
       "  </thead>\n",
       "  <tbody>\n",
       "    <tr>\n",
       "      <th>0</th>\n",
       "      <td>892420643555336193</td>\n",
       "      <td>NaN</td>\n",
       "      <td>NaN</td>\n",
       "      <td>2017-08-01 16:23:56 +0000</td>\n",
       "      <td>&lt;a href=\"http://twitter.com/download/iphone\" r...</td>\n",
       "      <td>This is Phineas. He's a mystical boy. Only eve...</td>\n",
       "      <td>NaN</td>\n",
       "      <td>NaN</td>\n",
       "      <td>NaN</td>\n",
       "      <td>https://twitter.com/dog_rates/status/892420643...</td>\n",
       "      <td>13</td>\n",
       "      <td>10</td>\n",
       "      <td>Phineas</td>\n",
       "      <td>None</td>\n",
       "      <td>None</td>\n",
       "      <td>None</td>\n",
       "      <td>None</td>\n",
       "      <td>36349.0</td>\n",
       "      <td>7735.0</td>\n",
       "    </tr>\n",
       "    <tr>\n",
       "      <th>1</th>\n",
       "      <td>892177421306343426</td>\n",
       "      <td>NaN</td>\n",
       "      <td>NaN</td>\n",
       "      <td>2017-08-01 00:17:27 +0000</td>\n",
       "      <td>&lt;a href=\"http://twitter.com/download/iphone\" r...</td>\n",
       "      <td>This is Tilly. She's just checking pup on you....</td>\n",
       "      <td>NaN</td>\n",
       "      <td>NaN</td>\n",
       "      <td>NaN</td>\n",
       "      <td>https://twitter.com/dog_rates/status/892177421...</td>\n",
       "      <td>13</td>\n",
       "      <td>10</td>\n",
       "      <td>Tilly</td>\n",
       "      <td>None</td>\n",
       "      <td>None</td>\n",
       "      <td>None</td>\n",
       "      <td>None</td>\n",
       "      <td>31319.0</td>\n",
       "      <td>5727.0</td>\n",
       "    </tr>\n",
       "    <tr>\n",
       "      <th>2</th>\n",
       "      <td>891815181378084864</td>\n",
       "      <td>NaN</td>\n",
       "      <td>NaN</td>\n",
       "      <td>2017-07-31 00:18:03 +0000</td>\n",
       "      <td>&lt;a href=\"http://twitter.com/download/iphone\" r...</td>\n",
       "      <td>This is Archie. He is a rare Norwegian Pouncin...</td>\n",
       "      <td>NaN</td>\n",
       "      <td>NaN</td>\n",
       "      <td>NaN</td>\n",
       "      <td>https://twitter.com/dog_rates/status/891815181...</td>\n",
       "      <td>12</td>\n",
       "      <td>10</td>\n",
       "      <td>Archie</td>\n",
       "      <td>None</td>\n",
       "      <td>None</td>\n",
       "      <td>None</td>\n",
       "      <td>None</td>\n",
       "      <td>23594.0</td>\n",
       "      <td>3789.0</td>\n",
       "    </tr>\n",
       "    <tr>\n",
       "      <th>3</th>\n",
       "      <td>891689557279858688</td>\n",
       "      <td>NaN</td>\n",
       "      <td>NaN</td>\n",
       "      <td>2017-07-30 15:58:51 +0000</td>\n",
       "      <td>&lt;a href=\"http://twitter.com/download/iphone\" r...</td>\n",
       "      <td>This is Darla. She commenced a snooze mid meal...</td>\n",
       "      <td>NaN</td>\n",
       "      <td>NaN</td>\n",
       "      <td>NaN</td>\n",
       "      <td>https://twitter.com/dog_rates/status/891689557...</td>\n",
       "      <td>13</td>\n",
       "      <td>10</td>\n",
       "      <td>Darla</td>\n",
       "      <td>None</td>\n",
       "      <td>None</td>\n",
       "      <td>None</td>\n",
       "      <td>None</td>\n",
       "      <td>39658.0</td>\n",
       "      <td>7901.0</td>\n",
       "    </tr>\n",
       "    <tr>\n",
       "      <th>4</th>\n",
       "      <td>891327558926688256</td>\n",
       "      <td>NaN</td>\n",
       "      <td>NaN</td>\n",
       "      <td>2017-07-29 16:00:24 +0000</td>\n",
       "      <td>&lt;a href=\"http://twitter.com/download/iphone\" r...</td>\n",
       "      <td>This is Franklin. He would like you to stop ca...</td>\n",
       "      <td>NaN</td>\n",
       "      <td>NaN</td>\n",
       "      <td>NaN</td>\n",
       "      <td>https://twitter.com/dog_rates/status/891327558...</td>\n",
       "      <td>12</td>\n",
       "      <td>10</td>\n",
       "      <td>Franklin</td>\n",
       "      <td>None</td>\n",
       "      <td>None</td>\n",
       "      <td>None</td>\n",
       "      <td>None</td>\n",
       "      <td>37853.0</td>\n",
       "      <td>8519.0</td>\n",
       "    </tr>\n",
       "  </tbody>\n",
       "</table>\n",
       "</div>"
      ],
      "text/plain": [
       "             tweet_id  in_reply_to_status_id  in_reply_to_user_id  \\\n",
       "0  892420643555336193                    NaN                  NaN   \n",
       "1  892177421306343426                    NaN                  NaN   \n",
       "2  891815181378084864                    NaN                  NaN   \n",
       "3  891689557279858688                    NaN                  NaN   \n",
       "4  891327558926688256                    NaN                  NaN   \n",
       "\n",
       "                   timestamp  \\\n",
       "0  2017-08-01 16:23:56 +0000   \n",
       "1  2017-08-01 00:17:27 +0000   \n",
       "2  2017-07-31 00:18:03 +0000   \n",
       "3  2017-07-30 15:58:51 +0000   \n",
       "4  2017-07-29 16:00:24 +0000   \n",
       "\n",
       "                                              source  \\\n",
       "0  <a href=\"http://twitter.com/download/iphone\" r...   \n",
       "1  <a href=\"http://twitter.com/download/iphone\" r...   \n",
       "2  <a href=\"http://twitter.com/download/iphone\" r...   \n",
       "3  <a href=\"http://twitter.com/download/iphone\" r...   \n",
       "4  <a href=\"http://twitter.com/download/iphone\" r...   \n",
       "\n",
       "                                                text  retweeted_status_id  \\\n",
       "0  This is Phineas. He's a mystical boy. Only eve...                  NaN   \n",
       "1  This is Tilly. She's just checking pup on you....                  NaN   \n",
       "2  This is Archie. He is a rare Norwegian Pouncin...                  NaN   \n",
       "3  This is Darla. She commenced a snooze mid meal...                  NaN   \n",
       "4  This is Franklin. He would like you to stop ca...                  NaN   \n",
       "\n",
       "   retweeted_status_user_id retweeted_status_timestamp  \\\n",
       "0                       NaN                        NaN   \n",
       "1                       NaN                        NaN   \n",
       "2                       NaN                        NaN   \n",
       "3                       NaN                        NaN   \n",
       "4                       NaN                        NaN   \n",
       "\n",
       "                                       expanded_urls  rating_numerator  \\\n",
       "0  https://twitter.com/dog_rates/status/892420643...                13   \n",
       "1  https://twitter.com/dog_rates/status/892177421...                13   \n",
       "2  https://twitter.com/dog_rates/status/891815181...                12   \n",
       "3  https://twitter.com/dog_rates/status/891689557...                13   \n",
       "4  https://twitter.com/dog_rates/status/891327558...                12   \n",
       "\n",
       "   rating_denominator      name doggo floofer pupper puppo  favourite_count  \\\n",
       "0                  10   Phineas  None    None   None  None          36349.0   \n",
       "1                  10     Tilly  None    None   None  None          31319.0   \n",
       "2                  10    Archie  None    None   None  None          23594.0   \n",
       "3                  10     Darla  None    None   None  None          39658.0   \n",
       "4                  10  Franklin  None    None   None  None          37853.0   \n",
       "\n",
       "   retweet_count  \n",
       "0         7735.0  \n",
       "1         5727.0  \n",
       "2         3789.0  \n",
       "3         7901.0  \n",
       "4         8519.0  "
      ]
     },
     "execution_count": 468,
     "metadata": {},
     "output_type": "execute_result"
    }
   ],
   "source": [
    "df1.head()"
   ]
  },
  {
   "cell_type": "code",
   "execution_count": 469,
   "metadata": {},
   "outputs": [
    {
     "data": {
      "text/html": [
       "<div>\n",
       "<style scoped>\n",
       "    .dataframe tbody tr th:only-of-type {\n",
       "        vertical-align: middle;\n",
       "    }\n",
       "\n",
       "    .dataframe tbody tr th {\n",
       "        vertical-align: top;\n",
       "    }\n",
       "\n",
       "    .dataframe thead th {\n",
       "        text-align: right;\n",
       "    }\n",
       "</style>\n",
       "<table border=\"1\" class=\"dataframe\">\n",
       "  <thead>\n",
       "    <tr style=\"text-align: right;\">\n",
       "      <th></th>\n",
       "      <th>tweet_id</th>\n",
       "      <th>jpg_url</th>\n",
       "      <th>img_num</th>\n",
       "      <th>p1</th>\n",
       "      <th>p1_conf</th>\n",
       "      <th>p1_dog</th>\n",
       "      <th>p2</th>\n",
       "      <th>p2_conf</th>\n",
       "      <th>p2_dog</th>\n",
       "      <th>p3</th>\n",
       "      <th>p3_conf</th>\n",
       "      <th>p3_dog</th>\n",
       "    </tr>\n",
       "  </thead>\n",
       "  <tbody>\n",
       "    <tr>\n",
       "      <th>0</th>\n",
       "      <td>666020888022790149</td>\n",
       "      <td>https://pbs.twimg.com/media/CT4udn0WwAA0aMy.jpg</td>\n",
       "      <td>1</td>\n",
       "      <td>Welsh_springer_spaniel</td>\n",
       "      <td>0.465074</td>\n",
       "      <td>True</td>\n",
       "      <td>collie</td>\n",
       "      <td>0.156665</td>\n",
       "      <td>True</td>\n",
       "      <td>Shetland_sheepdog</td>\n",
       "      <td>0.061428</td>\n",
       "      <td>True</td>\n",
       "    </tr>\n",
       "    <tr>\n",
       "      <th>1</th>\n",
       "      <td>666029285002620928</td>\n",
       "      <td>https://pbs.twimg.com/media/CT42GRgUYAA5iDo.jpg</td>\n",
       "      <td>1</td>\n",
       "      <td>redbone</td>\n",
       "      <td>0.506826</td>\n",
       "      <td>True</td>\n",
       "      <td>miniature_pinscher</td>\n",
       "      <td>0.074192</td>\n",
       "      <td>True</td>\n",
       "      <td>Rhodesian_ridgeback</td>\n",
       "      <td>0.072010</td>\n",
       "      <td>True</td>\n",
       "    </tr>\n",
       "    <tr>\n",
       "      <th>2</th>\n",
       "      <td>666033412701032449</td>\n",
       "      <td>https://pbs.twimg.com/media/CT4521TWwAEvMyu.jpg</td>\n",
       "      <td>1</td>\n",
       "      <td>German_shepherd</td>\n",
       "      <td>0.596461</td>\n",
       "      <td>True</td>\n",
       "      <td>malinois</td>\n",
       "      <td>0.138584</td>\n",
       "      <td>True</td>\n",
       "      <td>bloodhound</td>\n",
       "      <td>0.116197</td>\n",
       "      <td>True</td>\n",
       "    </tr>\n",
       "    <tr>\n",
       "      <th>3</th>\n",
       "      <td>666044226329800704</td>\n",
       "      <td>https://pbs.twimg.com/media/CT5Dr8HUEAA-lEu.jpg</td>\n",
       "      <td>1</td>\n",
       "      <td>Rhodesian_ridgeback</td>\n",
       "      <td>0.408143</td>\n",
       "      <td>True</td>\n",
       "      <td>redbone</td>\n",
       "      <td>0.360687</td>\n",
       "      <td>True</td>\n",
       "      <td>miniature_pinscher</td>\n",
       "      <td>0.222752</td>\n",
       "      <td>True</td>\n",
       "    </tr>\n",
       "    <tr>\n",
       "      <th>4</th>\n",
       "      <td>666049248165822465</td>\n",
       "      <td>https://pbs.twimg.com/media/CT5IQmsXIAAKY4A.jpg</td>\n",
       "      <td>1</td>\n",
       "      <td>miniature_pinscher</td>\n",
       "      <td>0.560311</td>\n",
       "      <td>True</td>\n",
       "      <td>Rottweiler</td>\n",
       "      <td>0.243682</td>\n",
       "      <td>True</td>\n",
       "      <td>Doberman</td>\n",
       "      <td>0.154629</td>\n",
       "      <td>True</td>\n",
       "    </tr>\n",
       "  </tbody>\n",
       "</table>\n",
       "</div>"
      ],
      "text/plain": [
       "             tweet_id                                          jpg_url  \\\n",
       "0  666020888022790149  https://pbs.twimg.com/media/CT4udn0WwAA0aMy.jpg   \n",
       "1  666029285002620928  https://pbs.twimg.com/media/CT42GRgUYAA5iDo.jpg   \n",
       "2  666033412701032449  https://pbs.twimg.com/media/CT4521TWwAEvMyu.jpg   \n",
       "3  666044226329800704  https://pbs.twimg.com/media/CT5Dr8HUEAA-lEu.jpg   \n",
       "4  666049248165822465  https://pbs.twimg.com/media/CT5IQmsXIAAKY4A.jpg   \n",
       "\n",
       "   img_num                      p1   p1_conf  p1_dog                  p2  \\\n",
       "0        1  Welsh_springer_spaniel  0.465074    True              collie   \n",
       "1        1                 redbone  0.506826    True  miniature_pinscher   \n",
       "2        1         German_shepherd  0.596461    True            malinois   \n",
       "3        1     Rhodesian_ridgeback  0.408143    True             redbone   \n",
       "4        1      miniature_pinscher  0.560311    True          Rottweiler   \n",
       "\n",
       "    p2_conf  p2_dog                   p3   p3_conf  p3_dog  \n",
       "0  0.156665    True    Shetland_sheepdog  0.061428    True  \n",
       "1  0.074192    True  Rhodesian_ridgeback  0.072010    True  \n",
       "2  0.138584    True           bloodhound  0.116197    True  \n",
       "3  0.360687    True   miniature_pinscher  0.222752    True  \n",
       "4  0.243682    True             Doberman  0.154629    True  "
      ]
     },
     "execution_count": 469,
     "metadata": {},
     "output_type": "execute_result"
    }
   ],
   "source": [
    "df2.head()"
   ]
  },
  {
   "cell_type": "markdown",
   "metadata": {},
   "source": [
    "#### II. Programmatic assessment of df1"
   ]
  },
  {
   "cell_type": "code",
   "execution_count": 9,
   "metadata": {},
   "outputs": [
    {
     "name": "stdout",
     "output_type": "stream",
     "text": [
      "<class 'pandas.core.frame.DataFrame'>\n",
      "RangeIndex: 2356 entries, 0 to 2355\n",
      "Data columns (total 19 columns):\n",
      " #   Column                      Non-Null Count  Dtype  \n",
      "---  ------                      --------------  -----  \n",
      " 0   tweet_id                    2356 non-null   int64  \n",
      " 1   in_reply_to_status_id       78 non-null     float64\n",
      " 2   in_reply_to_user_id         78 non-null     float64\n",
      " 3   timestamp                   2356 non-null   object \n",
      " 4   source                      2356 non-null   object \n",
      " 5   text                        2356 non-null   object \n",
      " 6   retweeted_status_id         181 non-null    float64\n",
      " 7   retweeted_status_user_id    181 non-null    float64\n",
      " 8   retweeted_status_timestamp  181 non-null    object \n",
      " 9   expanded_urls               2297 non-null   object \n",
      " 10  rating_numerator            2356 non-null   int64  \n",
      " 11  rating_denominator          2356 non-null   int64  \n",
      " 12  name                        2356 non-null   object \n",
      " 13  doggo                       2356 non-null   object \n",
      " 14  floofer                     2356 non-null   object \n",
      " 15  pupper                      2356 non-null   object \n",
      " 16  puppo                       2356 non-null   object \n",
      " 17  favourite_count             2331 non-null   float64\n",
      " 18  retweet_count               2331 non-null   float64\n",
      "dtypes: float64(6), int64(3), object(10)\n",
      "memory usage: 257.8+ KB\n"
     ]
    }
   ],
   "source": [
    "# General information about columns, rows, datatypes and null-values\n",
    "df1.info()"
   ]
  },
  {
   "cell_type": "code",
   "execution_count": 10,
   "metadata": {},
   "outputs": [
    {
     "name": "stdout",
     "output_type": "stream",
     "text": [
      "timestamp : <class 'str'>\n",
      "source : <class 'str'>\n",
      "text : <class 'str'>\n",
      "retweeted_status_timestamp : <class 'float'>\n",
      "expanded_urls : <class 'str'>\n",
      "name : <class 'str'>\n",
      "doggo : <class 'str'>\n",
      "floofer : <class 'str'>\n",
      "pupper : <class 'str'>\n",
      "puppo : <class 'str'>\n"
     ]
    }
   ],
   "source": [
    "# Checking datatypes of object columns\n",
    "labels_obj = ['timestamp', 'source', 'text', 'retweeted_status_timestamp', 'expanded_urls', 'name', 'doggo','floofer','pupper', 'puppo']\n",
    "\n",
    "for c in labels_obj:\n",
    "    print(c, ':', type(df1[c][0]))"
   ]
  },
  {
   "cell_type": "code",
   "execution_count": 11,
   "metadata": {},
   "outputs": [
    {
     "data": {
      "text/html": [
       "<div>\n",
       "<style scoped>\n",
       "    .dataframe tbody tr th:only-of-type {\n",
       "        vertical-align: middle;\n",
       "    }\n",
       "\n",
       "    .dataframe tbody tr th {\n",
       "        vertical-align: top;\n",
       "    }\n",
       "\n",
       "    .dataframe thead th {\n",
       "        text-align: right;\n",
       "    }\n",
       "</style>\n",
       "<table border=\"1\" class=\"dataframe\">\n",
       "  <thead>\n",
       "    <tr style=\"text-align: right;\">\n",
       "      <th></th>\n",
       "      <th>tweet_id</th>\n",
       "      <th>in_reply_to_status_id</th>\n",
       "      <th>in_reply_to_user_id</th>\n",
       "      <th>timestamp</th>\n",
       "      <th>source</th>\n",
       "      <th>text</th>\n",
       "      <th>retweeted_status_id</th>\n",
       "      <th>retweeted_status_user_id</th>\n",
       "      <th>retweeted_status_timestamp</th>\n",
       "      <th>expanded_urls</th>\n",
       "      <th>rating_numerator</th>\n",
       "      <th>rating_denominator</th>\n",
       "      <th>name</th>\n",
       "      <th>doggo</th>\n",
       "      <th>floofer</th>\n",
       "      <th>pupper</th>\n",
       "      <th>puppo</th>\n",
       "      <th>favourite_count</th>\n",
       "      <th>retweet_count</th>\n",
       "    </tr>\n",
       "  </thead>\n",
       "  <tbody>\n",
       "    <tr>\n",
       "      <th>1537</th>\n",
       "      <td>689877686181715968</td>\n",
       "      <td>NaN</td>\n",
       "      <td>NaN</td>\n",
       "      <td>2016-01-20 18:30:32 +0000</td>\n",
       "      <td>&lt;a href=\"http://twitter.com/download/iphone\" r...</td>\n",
       "      <td>This is Durg. He's trying to conquer his fear ...</td>\n",
       "      <td>NaN</td>\n",
       "      <td>NaN</td>\n",
       "      <td>NaN</td>\n",
       "      <td>https://twitter.com/dog_rates/status/689877686...</td>\n",
       "      <td>9</td>\n",
       "      <td>10</td>\n",
       "      <td>Durg</td>\n",
       "      <td>None</td>\n",
       "      <td>None</td>\n",
       "      <td>None</td>\n",
       "      <td>None</td>\n",
       "      <td>3042.0</td>\n",
       "      <td>1163.0</td>\n",
       "    </tr>\n",
       "  </tbody>\n",
       "</table>\n",
       "</div>"
      ],
      "text/plain": [
       "                tweet_id  in_reply_to_status_id  in_reply_to_user_id  \\\n",
       "1537  689877686181715968                    NaN                  NaN   \n",
       "\n",
       "                      timestamp  \\\n",
       "1537  2016-01-20 18:30:32 +0000   \n",
       "\n",
       "                                                 source  \\\n",
       "1537  <a href=\"http://twitter.com/download/iphone\" r...   \n",
       "\n",
       "                                                   text  retweeted_status_id  \\\n",
       "1537  This is Durg. He's trying to conquer his fear ...                  NaN   \n",
       "\n",
       "      retweeted_status_user_id retweeted_status_timestamp  \\\n",
       "1537                       NaN                        NaN   \n",
       "\n",
       "                                          expanded_urls  rating_numerator  \\\n",
       "1537  https://twitter.com/dog_rates/status/689877686...                 9   \n",
       "\n",
       "      rating_denominator  name doggo floofer pupper puppo  favourite_count  \\\n",
       "1537                  10  Durg  None    None   None  None           3042.0   \n",
       "\n",
       "      retweet_count  \n",
       "1537         1163.0  "
      ]
     },
     "execution_count": 11,
     "metadata": {},
     "output_type": "execute_result"
    }
   ],
   "source": [
    "# Examining a random sample from df1\n",
    "df1.sample()"
   ]
  },
  {
   "cell_type": "code",
   "execution_count": 12,
   "metadata": {},
   "outputs": [
    {
     "data": {
      "text/plain": [
       "count    2356.000000\n",
       "mean       13.126486\n",
       "std        45.876648\n",
       "min         0.000000\n",
       "25%        10.000000\n",
       "50%        11.000000\n",
       "75%        12.000000\n",
       "max      1776.000000\n",
       "Name: rating_numerator, dtype: float64"
      ]
     },
     "execution_count": 12,
     "metadata": {},
     "output_type": "execute_result"
    }
   ],
   "source": [
    "# Examining column 'rating_numerator' with quantitative data\n",
    "df1.rating_numerator.describe()"
   ]
  },
  {
   "cell_type": "code",
   "execution_count": 13,
   "metadata": {},
   "outputs": [
    {
     "data": {
      "text/plain": [
       "count    2356.000000\n",
       "mean       10.455433\n",
       "std         6.745237\n",
       "min         0.000000\n",
       "25%        10.000000\n",
       "50%        10.000000\n",
       "75%        10.000000\n",
       "max       170.000000\n",
       "Name: rating_denominator, dtype: float64"
      ]
     },
     "execution_count": 13,
     "metadata": {},
     "output_type": "execute_result"
    }
   ],
   "source": [
    "# Examining column 'rating_denominator' with quantitative data\n",
    "df1.rating_denominator.describe()"
   ]
  },
  {
   "cell_type": "code",
   "execution_count": 14,
   "metadata": {},
   "outputs": [
    {
     "data": {
      "text/plain": [
       "count      2331.000000\n",
       "mean       7592.956242\n",
       "std       11781.585566\n",
       "min           0.000000\n",
       "25%        1324.500000\n",
       "50%        3305.000000\n",
       "75%        9301.500000\n",
       "max      156910.000000\n",
       "Name: favourite_count, dtype: float64"
      ]
     },
     "execution_count": 14,
     "metadata": {},
     "output_type": "execute_result"
    }
   ],
   "source": [
    "# Examining column 'favourite_countr' with quantitative data\n",
    "df1.favourite_count.describe()"
   ]
  },
  {
   "cell_type": "code",
   "execution_count": 15,
   "metadata": {},
   "outputs": [
    {
     "data": {
      "text/plain": [
       "count     2331.000000\n",
       "mean      2715.572287\n",
       "std       4593.204079\n",
       "min          1.000000\n",
       "25%        548.500000\n",
       "50%       1275.000000\n",
       "75%       3155.000000\n",
       "max      78190.000000\n",
       "Name: retweet_count, dtype: float64"
      ]
     },
     "execution_count": 15,
     "metadata": {},
     "output_type": "execute_result"
    }
   ],
   "source": [
    "# Examining column 'retweet_count' with quantitative data\n",
    "df1.retweet_count.describe()"
   ]
  },
  {
   "cell_type": "code",
   "execution_count": 16,
   "metadata": {},
   "outputs": [
    {
     "data": {
      "text/plain": [
       "0"
      ]
     },
     "execution_count": 16,
     "metadata": {},
     "output_type": "execute_result"
    }
   ],
   "source": [
    "# Checking for duplicated tweet_ids in df1\n",
    "df1.tweet_id.duplicated().sum()"
   ]
  },
  {
   "cell_type": "markdown",
   "metadata": {},
   "source": [
    "#### III. Programmatic assessment of df2"
   ]
  },
  {
   "cell_type": "code",
   "execution_count": 17,
   "metadata": {},
   "outputs": [
    {
     "name": "stdout",
     "output_type": "stream",
     "text": [
      "<class 'pandas.core.frame.DataFrame'>\n",
      "RangeIndex: 2075 entries, 0 to 2074\n",
      "Data columns (total 12 columns):\n",
      " #   Column    Non-Null Count  Dtype  \n",
      "---  ------    --------------  -----  \n",
      " 0   tweet_id  2075 non-null   int64  \n",
      " 1   jpg_url   2075 non-null   object \n",
      " 2   img_num   2075 non-null   int64  \n",
      " 3   p1        2075 non-null   object \n",
      " 4   p1_conf   2075 non-null   float64\n",
      " 5   p1_dog    2075 non-null   bool   \n",
      " 6   p2        2075 non-null   object \n",
      " 7   p2_conf   2075 non-null   float64\n",
      " 8   p2_dog    2075 non-null   bool   \n",
      " 9   p3        2075 non-null   object \n",
      " 10  p3_conf   2075 non-null   float64\n",
      " 11  p3_dog    2075 non-null   bool   \n",
      "dtypes: bool(3), float64(3), int64(2), object(4)\n",
      "memory usage: 119.6+ KB\n"
     ]
    }
   ],
   "source": [
    "# General information about columns, rows, datatypes and null-values\n",
    "df2.info()"
   ]
  },
  {
   "cell_type": "code",
   "execution_count": 18,
   "metadata": {},
   "outputs": [
    {
     "name": "stdout",
     "output_type": "stream",
     "text": [
      "jpg_url : <class 'str'>\n",
      "p1 : <class 'str'>\n",
      "p2 : <class 'str'>\n",
      "p3 : <class 'str'>\n"
     ]
    }
   ],
   "source": [
    "# Checking datatypes of object columns\n",
    "labels_obj = ['jpg_url', 'p1', 'p2', 'p3']\n",
    "\n",
    "for c in labels_obj:\n",
    "    print(c, ':', type(df2[c][0]))"
   ]
  },
  {
   "cell_type": "code",
   "execution_count": 19,
   "metadata": {},
   "outputs": [
    {
     "data": {
      "text/html": [
       "<div>\n",
       "<style scoped>\n",
       "    .dataframe tbody tr th:only-of-type {\n",
       "        vertical-align: middle;\n",
       "    }\n",
       "\n",
       "    .dataframe tbody tr th {\n",
       "        vertical-align: top;\n",
       "    }\n",
       "\n",
       "    .dataframe thead th {\n",
       "        text-align: right;\n",
       "    }\n",
       "</style>\n",
       "<table border=\"1\" class=\"dataframe\">\n",
       "  <thead>\n",
       "    <tr style=\"text-align: right;\">\n",
       "      <th></th>\n",
       "      <th>tweet_id</th>\n",
       "      <th>jpg_url</th>\n",
       "      <th>img_num</th>\n",
       "      <th>p1</th>\n",
       "      <th>p1_conf</th>\n",
       "      <th>p1_dog</th>\n",
       "      <th>p2</th>\n",
       "      <th>p2_conf</th>\n",
       "      <th>p2_dog</th>\n",
       "      <th>p3</th>\n",
       "      <th>p3_conf</th>\n",
       "      <th>p3_dog</th>\n",
       "    </tr>\n",
       "  </thead>\n",
       "  <tbody>\n",
       "    <tr>\n",
       "      <th>1062</th>\n",
       "      <td>715220193576927233</td>\n",
       "      <td>https://pbs.twimg.com/media/Cez49UqWsAIRQXc.jpg</td>\n",
       "      <td>1</td>\n",
       "      <td>Chihuahua</td>\n",
       "      <td>0.584026</td>\n",
       "      <td>True</td>\n",
       "      <td>Italian_greyhound</td>\n",
       "      <td>0.377077</td>\n",
       "      <td>True</td>\n",
       "      <td>Boston_bull</td>\n",
       "      <td>0.0174</td>\n",
       "      <td>True</td>\n",
       "    </tr>\n",
       "  </tbody>\n",
       "</table>\n",
       "</div>"
      ],
      "text/plain": [
       "                tweet_id                                          jpg_url  \\\n",
       "1062  715220193576927233  https://pbs.twimg.com/media/Cez49UqWsAIRQXc.jpg   \n",
       "\n",
       "      img_num         p1   p1_conf  p1_dog                 p2   p2_conf  \\\n",
       "1062        1  Chihuahua  0.584026    True  Italian_greyhound  0.377077   \n",
       "\n",
       "      p2_dog           p3  p3_conf  p3_dog  \n",
       "1062    True  Boston_bull   0.0174    True  "
      ]
     },
     "execution_count": 19,
     "metadata": {},
     "output_type": "execute_result"
    }
   ],
   "source": [
    "# Examining a random sample from df2\n",
    "df2.sample()"
   ]
  },
  {
   "cell_type": "code",
   "execution_count": 20,
   "metadata": {},
   "outputs": [
    {
     "data": {
      "text/plain": [
       "1    1780\n",
       "2     198\n",
       "3      66\n",
       "4      31\n",
       "Name: img_num, dtype: int64"
      ]
     },
     "execution_count": 20,
     "metadata": {},
     "output_type": "execute_result"
    }
   ],
   "source": [
    "# Checking value counts for column 'img_num'\n",
    "df2.img_num.value_counts()"
   ]
  },
  {
   "cell_type": "code",
   "execution_count": 21,
   "metadata": {},
   "outputs": [
    {
     "data": {
      "text/plain": [
       "0"
      ]
     },
     "execution_count": 21,
     "metadata": {},
     "output_type": "execute_result"
    }
   ],
   "source": [
    "# Checking for duplicated tweet_ids in df2\n",
    "df2.tweet_id.duplicated().sum()"
   ]
  },
  {
   "cell_type": "markdown",
   "metadata": {},
   "source": [
    "#### Differentiation of dataframes\n",
    "- **df1** - Basic information about the tweets\n",
    "- **df2** - Information regarding the prediction of dog breeds\n",
    "- **df3** - Information regarding dog name, type and rating"
   ]
  },
  {
   "cell_type": "markdown",
   "metadata": {},
   "source": [
    "#### Tidiness of data\n",
    "##### `df1` \n",
    "- There are retweets in df1 while they shouldn't be occurring in df1 -> **Remove retweet rows**\n",
    "- Columns 'retweeted_status_user_id' and 'retweeted_status_timestamp' don't fit to type of obervational unit int df1 -> **Remove retweet columns**\n",
    "- Columns 'in_reply_to_status_id' and 'in_reply_to_user_id' don't fit to type of observational unit -> **Remove columns**\n",
    "- Columns 'doggo', 'floofer', ' doggo', 'pupper', 'puppo' not understandable for reader -> **Join columns in one single column 'type'**\n",
    "- Columns 'name', 'type', 'rating_numerator' and 'rating_denominator' don't fit to type of observational unit -> **Move columns to df3**\n",
    "\n",
    "#### `df2`:\n",
    "- Column label names 'img_num' and  'jpg_url' hard to understand for reader -> **Change label names**\n",
    "- Columns 'jpg_url' and 'img_num' in df2 hold information regarding type of observational unit from df1 -> **Move columns to df1**\n"
   ]
  },
  {
   "cell_type": "markdown",
   "metadata": {},
   "source": [
    "#### Quality\n",
    "\n",
    "##### `df1`, `df2`, `df3`\n",
    "- 1, Remove rows with missing values from the dataframes\n",
    "\n",
    "##### `df1`:\n",
    "- 2, Change 'favourite_count' from float to int\n",
    "- 3, Change 'retweet_count' from float to int\n",
    "- 4, Change 'timestamp' to datatype Datetime\n",
    "- 5, Change 'img_num' to int\n",
    "- 6, Correct entries in 'source' column to 'http://twitter.com'\n",
    "\n",
    "##### `df3`:\n",
    "- 7, Remove row with unrealistic max values in column 'rating_numerator\n",
    "- 8, Change unrealistic max value in column 'rating_denominator' to 10"
   ]
  },
  {
   "cell_type": "markdown",
   "metadata": {},
   "source": [
    "### c. Clean\n",
    "In the Cleaning phase potential problemns in the provided dataset are idtentified and subsequently solved. The data is brought into a state from which further analysis can be conducted.\n",
    "\n",
    "\n",
    "\n"
   ]
  },
  {
   "cell_type": "code",
   "execution_count": 315,
   "metadata": {},
   "outputs": [],
   "source": [
    "df1_clean = df1.copy()\n",
    "df2_clean = df2.copy()"
   ]
  },
  {
   "cell_type": "markdown",
   "metadata": {},
   "source": [
    "####  I. Tidiness of data\n",
    "\n",
    "##### Define\n",
    "`df1`\n",
    "- 1, Remove retweet rows and subsequently delete columns regarding retweets from df1_clean\n",
    "- 2, Remove 'in_reply_to_status_id' and 'in_reply_to_user_id' from df1_clean\n",
    "- 3, Reorganize columns 'doggo', 'floofer', 'doggo', 'pupper' and 'puppo' in single column 'type'\n",
    "- 4, Create new dataframe df3 with columns 'name', 'type', 'rating_numerator' and 'rating_denominator' and remove columns from df1_clean\n",
    "\n",
    "`df2`\n",
    "- 5, Place columns 'jpg_url' and 'img_num' in df1_clean,  eliminate them from df2_clean and change label names\n",
    "\n",
    "##### Code"
   ]
  },
  {
   "cell_type": "markdown",
   "metadata": {},
   "source": [
    "1, Remove retweet rows and subsequently delete columns regarding retweets from df1_clean"
   ]
  },
  {
   "cell_type": "code",
   "execution_count": 316,
   "metadata": {},
   "outputs": [],
   "source": [
    "# Remove the retweet rows from df1_clean\n",
    "df1_clean = df1_clean.query('retweeted_status_id.isnull() == True')\n",
    "\n",
    "# Delete the columns regarding retweets in df1_clean\n",
    "df1_clean.drop(['retweeted_status_id','retweeted_status_user_id', 'retweeted_status_timestamp'], axis=1, inplace=True)"
   ]
  },
  {
   "cell_type": "markdown",
   "metadata": {},
   "source": [
    "2. Remove 'in_reply_to_status_id' and 'in_reply_to_user_id' from df1_clean"
   ]
  },
  {
   "cell_type": "code",
   "execution_count": 317,
   "metadata": {},
   "outputs": [],
   "source": [
    "# 2, Remove columns 'in_reply_to_status_id' and 'in_reply_to_user_id' from df1_clean\n",
    "df1_clean.drop(['in_reply_to_status_id','in_reply_to_user_id'], axis=1, inplace=True)"
   ]
  },
  {
   "cell_type": "markdown",
   "metadata": {},
   "source": [
    "3. Reorganize columns 'doggo', 'floofer', 'doggo', 'pupper' and 'puppo' in single column 'type'"
   ]
  },
  {
   "cell_type": "code",
   "execution_count": 318,
   "metadata": {},
   "outputs": [
    {
     "data": {
      "text/plain": [
       "[True, True, True, True, True, True, True, True, True, True, True, True]"
      ]
     },
     "execution_count": 318,
     "metadata": {},
     "output_type": "execute_result"
    }
   ],
   "source": [
    "# Make sure there are no overlapping entries in columns doggo, floofer, pupper, puppo\n",
    "labels_list = ['doggo', 'floofer', 'pupper', 'puppo']\n",
    "check = []\n",
    "\n",
    "for c in labels_list:\n",
    "    df_check = df1_clean.query('{} == \"{}\"'.format(c,c))\n",
    "    list_check = labels_list.copy()\n",
    "    list_check.remove(c)\n",
    "    for d in list_check:\n",
    "        check.append(df_check[d].isnull().count() == df_check[c].count())\n",
    "\n",
    "# No overlaping entries in any of the columns?\n",
    "check"
   ]
  },
  {
   "cell_type": "code",
   "execution_count": 319,
   "metadata": {},
   "outputs": [],
   "source": [
    "# Replace None with NaNs in df1_clean\n",
    "labels = ['doggo', 'floofer', 'pupper','puppo']\n",
    "\n",
    "for c in labels:\n",
    "    df1_clean[c] = df1_clean[c].replace('None', np.nan)"
   ]
  },
  {
   "cell_type": "code",
   "execution_count": 320,
   "metadata": {},
   "outputs": [],
   "source": [
    "# Combine columns 'doggo', 'floofer', 'pupper' and 'puppo' in column 'doggo'\n",
    "df1_clean['doggo'] = df1_clean.loc[:,'doggo':'puppo'].fillna(method='ffill',axis=1)['puppo']"
   ]
  },
  {
   "cell_type": "code",
   "execution_count": 321,
   "metadata": {},
   "outputs": [],
   "source": [
    "# Remove redundant columns 'floofer', 'pupper' and 'puppo'\n",
    "df1_clean.drop(['floofer', 'pupper', 'puppo'], axis=1, inplace=True)\n",
    "\n",
    "# Rename column 'doggo' to 'type'\n",
    "df1_clean = df1_clean.rename(columns={'doggo':'type'})\n",
    "\n",
    "# Replace NaNs with 'None' in columns 'type'\n",
    "df1_clean['type'] = df1_clean['type'].replace(np.nan, 'None')"
   ]
  },
  {
   "cell_type": "markdown",
   "metadata": {},
   "source": [
    "4. Create new dataframe df3 with columns 'name', 'type', 'rating_numerator' and 'rating_denominator' and remove columns from df1_clean"
   ]
  },
  {
   "cell_type": "code",
   "execution_count": 324,
   "metadata": {},
   "outputs": [],
   "source": [
    "# Create new dataframe df3\n",
    "df3_clean = df1_clean.copy()"
   ]
  },
  {
   "cell_type": "code",
   "execution_count": 327,
   "metadata": {},
   "outputs": [],
   "source": [
    "# Remove all columns from df3 except for 'tweet_id', 'rating_numerator', 'rating_denominator', 'name', 'type'\n",
    "df3_clean.drop(['timestamp','source', 'text', 'expanded_urls', 'favourite_count', \n",
    "                'retweet_count', 'image_url', 'number_of_images'], axis=1, inplace=True)"
   ]
  },
  {
   "cell_type": "code",
   "execution_count": 329,
   "metadata": {},
   "outputs": [],
   "source": [
    "# Remove columns 'rating_numerator', 'rating_denominator', 'name', 'type' from df1\n",
    "df1_clean.drop(['rating_numerator', 'rating_denominator', 'name', 'type'], axis=1, inplace=True)"
   ]
  },
  {
   "cell_type": "markdown",
   "metadata": {},
   "source": [
    "5. Place columns 'jpg_url' and 'img_num' in df1_clean,  eliminate them from df2_clean and change label names"
   ]
  },
  {
   "cell_type": "code",
   "execution_count": 322,
   "metadata": {},
   "outputs": [],
   "source": [
    "# Join columns 'jpg_url' and 'img_num' from df2_clean with df1_clean\n",
    "df1_clean = df1_clean.join(df2_clean.set_index('tweet_id'), on='tweet_id')\n",
    "\n",
    "# Remove columns joined from df2_clean except for 'jpg_url' and 'img_num'\n",
    "df1_clean.drop(['p1','p1_conf','p1_dog','p2','p2_conf','p2_dog','p3','p3_conf','p3_dog'], axis=1, inplace=True)\n",
    "\n",
    "# Remove columns 'img_num' and 'jpg_url' from df2_clean\n",
    "df2_clean.drop(['img_num','jpg_url'], axis=1, inplace=True)"
   ]
  },
  {
   "cell_type": "code",
   "execution_count": 323,
   "metadata": {},
   "outputs": [],
   "source": [
    "# Rename columns 'img_num' and 'jpg_url'\n",
    "df1_clean = df1_clean.rename(columns={'img_num':'number_of_images', 'jpg_url':'image_url'})"
   ]
  },
  {
   "cell_type": "markdown",
   "metadata": {},
   "source": [
    "##### Check"
   ]
  },
  {
   "cell_type": "code",
   "execution_count": 331,
   "metadata": {},
   "outputs": [
    {
     "data": {
      "text/html": [
       "<div>\n",
       "<style scoped>\n",
       "    .dataframe tbody tr th:only-of-type {\n",
       "        vertical-align: middle;\n",
       "    }\n",
       "\n",
       "    .dataframe tbody tr th {\n",
       "        vertical-align: top;\n",
       "    }\n",
       "\n",
       "    .dataframe thead th {\n",
       "        text-align: right;\n",
       "    }\n",
       "</style>\n",
       "<table border=\"1\" class=\"dataframe\">\n",
       "  <thead>\n",
       "    <tr style=\"text-align: right;\">\n",
       "      <th></th>\n",
       "      <th>tweet_id</th>\n",
       "      <th>timestamp</th>\n",
       "      <th>source</th>\n",
       "      <th>text</th>\n",
       "      <th>expanded_urls</th>\n",
       "      <th>favourite_count</th>\n",
       "      <th>retweet_count</th>\n",
       "      <th>image_url</th>\n",
       "      <th>number_of_images</th>\n",
       "    </tr>\n",
       "  </thead>\n",
       "  <tbody>\n",
       "    <tr>\n",
       "      <th>0</th>\n",
       "      <td>892420643555336193</td>\n",
       "      <td>2017-08-01 16:23:56 +0000</td>\n",
       "      <td>&lt;a href=\"http://twitter.com/download/iphone\" r...</td>\n",
       "      <td>This is Phineas. He's a mystical boy. Only eve...</td>\n",
       "      <td>https://twitter.com/dog_rates/status/892420643...</td>\n",
       "      <td>36349.0</td>\n",
       "      <td>7735.0</td>\n",
       "      <td>https://pbs.twimg.com/media/DGKD1-bXoAAIAUK.jpg</td>\n",
       "      <td>1.0</td>\n",
       "    </tr>\n",
       "  </tbody>\n",
       "</table>\n",
       "</div>"
      ],
      "text/plain": [
       "             tweet_id                  timestamp  \\\n",
       "0  892420643555336193  2017-08-01 16:23:56 +0000   \n",
       "\n",
       "                                              source  \\\n",
       "0  <a href=\"http://twitter.com/download/iphone\" r...   \n",
       "\n",
       "                                                text  \\\n",
       "0  This is Phineas. He's a mystical boy. Only eve...   \n",
       "\n",
       "                                       expanded_urls  favourite_count  \\\n",
       "0  https://twitter.com/dog_rates/status/892420643...          36349.0   \n",
       "\n",
       "   retweet_count                                        image_url  \\\n",
       "0         7735.0  https://pbs.twimg.com/media/DGKD1-bXoAAIAUK.jpg   \n",
       "\n",
       "   number_of_images  \n",
       "0               1.0  "
      ]
     },
     "execution_count": 331,
     "metadata": {},
     "output_type": "execute_result"
    }
   ],
   "source": [
    "# Visual check of changes in df1_clean\n",
    "df1_clean.head(1)"
   ]
  },
  {
   "cell_type": "code",
   "execution_count": 278,
   "metadata": {},
   "outputs": [
    {
     "data": {
      "text/html": [
       "<div>\n",
       "<style scoped>\n",
       "    .dataframe tbody tr th:only-of-type {\n",
       "        vertical-align: middle;\n",
       "    }\n",
       "\n",
       "    .dataframe tbody tr th {\n",
       "        vertical-align: top;\n",
       "    }\n",
       "\n",
       "    .dataframe thead th {\n",
       "        text-align: right;\n",
       "    }\n",
       "</style>\n",
       "<table border=\"1\" class=\"dataframe\">\n",
       "  <thead>\n",
       "    <tr style=\"text-align: right;\">\n",
       "      <th></th>\n",
       "      <th>tweet_id</th>\n",
       "      <th>p1</th>\n",
       "      <th>p1_conf</th>\n",
       "      <th>p1_dog</th>\n",
       "      <th>p2</th>\n",
       "      <th>p2_conf</th>\n",
       "      <th>p2_dog</th>\n",
       "      <th>p3</th>\n",
       "      <th>p3_conf</th>\n",
       "      <th>p3_dog</th>\n",
       "    </tr>\n",
       "  </thead>\n",
       "  <tbody>\n",
       "    <tr>\n",
       "      <th>0</th>\n",
       "      <td>666020888022790149</td>\n",
       "      <td>Welsh_springer_spaniel</td>\n",
       "      <td>0.465074</td>\n",
       "      <td>True</td>\n",
       "      <td>collie</td>\n",
       "      <td>0.156665</td>\n",
       "      <td>True</td>\n",
       "      <td>Shetland_sheepdog</td>\n",
       "      <td>0.061428</td>\n",
       "      <td>True</td>\n",
       "    </tr>\n",
       "  </tbody>\n",
       "</table>\n",
       "</div>"
      ],
      "text/plain": [
       "             tweet_id                      p1   p1_conf  p1_dog      p2  \\\n",
       "0  666020888022790149  Welsh_springer_spaniel  0.465074    True  collie   \n",
       "\n",
       "    p2_conf  p2_dog                 p3   p3_conf  p3_dog  \n",
       "0  0.156665    True  Shetland_sheepdog  0.061428    True  "
      ]
     },
     "execution_count": 278,
     "metadata": {},
     "output_type": "execute_result"
    }
   ],
   "source": [
    "# Visual check of changes in df2_clean\n",
    "df2_clean.head(1)"
   ]
  },
  {
   "cell_type": "code",
   "execution_count": 332,
   "metadata": {},
   "outputs": [
    {
     "data": {
      "text/html": [
       "<div>\n",
       "<style scoped>\n",
       "    .dataframe tbody tr th:only-of-type {\n",
       "        vertical-align: middle;\n",
       "    }\n",
       "\n",
       "    .dataframe tbody tr th {\n",
       "        vertical-align: top;\n",
       "    }\n",
       "\n",
       "    .dataframe thead th {\n",
       "        text-align: right;\n",
       "    }\n",
       "</style>\n",
       "<table border=\"1\" class=\"dataframe\">\n",
       "  <thead>\n",
       "    <tr style=\"text-align: right;\">\n",
       "      <th></th>\n",
       "      <th>tweet_id</th>\n",
       "      <th>rating_numerator</th>\n",
       "      <th>rating_denominator</th>\n",
       "      <th>name</th>\n",
       "      <th>type</th>\n",
       "    </tr>\n",
       "  </thead>\n",
       "  <tbody>\n",
       "    <tr>\n",
       "      <th>0</th>\n",
       "      <td>892420643555336193</td>\n",
       "      <td>13</td>\n",
       "      <td>10</td>\n",
       "      <td>Phineas</td>\n",
       "      <td>None</td>\n",
       "    </tr>\n",
       "  </tbody>\n",
       "</table>\n",
       "</div>"
      ],
      "text/plain": [
       "             tweet_id  rating_numerator  rating_denominator     name  type\n",
       "0  892420643555336193                13                  10  Phineas  None"
      ]
     },
     "execution_count": 332,
     "metadata": {},
     "output_type": "execute_result"
    }
   ],
   "source": [
    "# Visual check of changes in df3_clean\n",
    "df3_clean.head(1)"
   ]
  },
  {
   "cell_type": "markdown",
   "metadata": {},
   "source": [
    "#### II. Quality of data\n",
    "\n",
    "##### Define\n",
    "- 1, Remove rows with missing values from the dataframes\n",
    "- 2, Change 'favourite_count' from float to int\n",
    "- 3, Change 'retweet_count' from float to int\n",
    "- 4, Change 'timestamp' to datatype Datetime\n",
    "- 5, Change 'img_num' to int\n",
    "- 6, Correct entries in 'source' column to 'http://twitter.com'\n",
    "- 7, Delete row with unrealistic max values in column 'rating_numerator'\n",
    "- 8, Change unrealistic max value (170) in column 'rating_denominator' to 10\n",
    "\n",
    "##### Code\n",
    "1. Remove rows with missing values from the dataframes"
   ]
  },
  {
   "cell_type": "code",
   "execution_count": 341,
   "metadata": {},
   "outputs": [],
   "source": [
    "# Drop all rows with null values\n",
    "df1_clean.dropna(inplace = True)\n",
    "df2_clean.dropna(inplace = True)\n",
    "df3_clean.dropna(inplace = True)"
   ]
  },
  {
   "cell_type": "markdown",
   "metadata": {},
   "source": [
    "2. Change 'favourite_count' from float to int 3. Change 'retweet_count' from float to int 4. Change 'timestamp' to datatype Datetime 5. Change 'img_num' to int"
   ]
  },
  {
   "cell_type": "code",
   "execution_count": 343,
   "metadata": {},
   "outputs": [],
   "source": [
    "df1_clean['favourite_count'] = df1_clean.favourite_count.astype(int)\n",
    "df1_clean['retweet_count'] = df1_clean.retweet_count.astype(int)\n",
    "df1_clean['timestamp'] = pd.to_datetime(df1_clean['timestamp'])\n",
    "df1_clean['number_of_images'] = df1_clean.number_of_images.astype(int)"
   ]
  },
  {
   "cell_type": "markdown",
   "metadata": {},
   "source": [
    "6. Correct entries in 'source' column to 'http://twitter.com'"
   ]
  },
  {
   "cell_type": "code",
   "execution_count": 344,
   "metadata": {},
   "outputs": [],
   "source": [
    "# Change entries in column 'source'\n",
    "df1_clean['source'] = 'http://twitter.com'"
   ]
  },
  {
   "cell_type": "markdown",
   "metadata": {},
   "source": [
    "7. Delete row with unrealistic max values in column 'rating_numerator'"
   ]
  },
  {
   "cell_type": "code",
   "execution_count": 345,
   "metadata": {},
   "outputs": [],
   "source": [
    "# Detect and remove rows with unrealistic numerator (>20)\n",
    "while df3_clean.rating_numerator.max() > 20:\n",
    "    max_value_index = df3_clean.loc[df3_clean['rating_numerator'] == df3_clean.rating_numerator.max()].index[0]\n",
    "    df3_clean.drop(max_value_index, inplace = True)"
   ]
  },
  {
   "cell_type": "markdown",
   "metadata": {},
   "source": [
    "8. Change unrealistic max values in column 'rating_denominator' to 10"
   ]
  },
  {
   "cell_type": "code",
   "execution_count": 346,
   "metadata": {},
   "outputs": [
    {
     "data": {
      "text/plain": [
       "(7, 5)"
      ]
     },
     "execution_count": 346,
     "metadata": {},
     "output_type": "execute_result"
    }
   ],
   "source": [
    "# Check for how many rows denominator isn't 10\n",
    "df3_clean.query('rating_denominator != 10').shape"
   ]
  },
  {
   "cell_type": "code",
   "execution_count": 347,
   "metadata": {},
   "outputs": [],
   "source": [
    "# Change denomiator of all rows to 10\n",
    "df3_clean['rating_denominator'] = 10"
   ]
  },
  {
   "cell_type": "markdown",
   "metadata": {},
   "source": [
    "##### Check"
   ]
  },
  {
   "cell_type": "code",
   "execution_count": 348,
   "metadata": {},
   "outputs": [
    {
     "name": "stdout",
     "output_type": "stream",
     "text": [
      "<class 'pandas.core.frame.DataFrame'>\n",
      "Int64Index: 1987 entries, 0 to 2355\n",
      "Data columns (total 9 columns):\n",
      " #   Column            Non-Null Count  Dtype              \n",
      "---  ------            --------------  -----              \n",
      " 0   tweet_id          1987 non-null   int64              \n",
      " 1   timestamp         1987 non-null   datetime64[ns, UTC]\n",
      " 2   source            1987 non-null   object             \n",
      " 3   text              1987 non-null   object             \n",
      " 4   expanded_urls     1987 non-null   object             \n",
      " 5   favourite_count   1987 non-null   int32              \n",
      " 6   retweet_count     1987 non-null   int32              \n",
      " 7   image_url         1987 non-null   object             \n",
      " 8   number_of_images  1987 non-null   int32              \n",
      "dtypes: datetime64[ns, UTC](1), int32(3), int64(1), object(4)\n",
      "memory usage: 100.9+ KB\n"
     ]
    }
   ],
   "source": [
    "# Check datatypes of columns in df1_clean visually\n",
    "df1_clean.info()"
   ]
  },
  {
   "cell_type": "code",
   "execution_count": 349,
   "metadata": {},
   "outputs": [
    {
     "name": "stdout",
     "output_type": "stream",
     "text": [
      "<class 'pandas.core.frame.DataFrame'>\n",
      "Int64Index: 2075 entries, 0 to 2074\n",
      "Data columns (total 10 columns):\n",
      " #   Column    Non-Null Count  Dtype  \n",
      "---  ------    --------------  -----  \n",
      " 0   tweet_id  2075 non-null   int64  \n",
      " 1   p1        2075 non-null   object \n",
      " 2   p1_conf   2075 non-null   float64\n",
      " 3   p1_dog    2075 non-null   bool   \n",
      " 4   p2        2075 non-null   object \n",
      " 5   p2_conf   2075 non-null   float64\n",
      " 6   p2_dog    2075 non-null   bool   \n",
      " 7   p3        2075 non-null   object \n",
      " 8   p3_conf   2075 non-null   float64\n",
      " 9   p3_dog    2075 non-null   bool   \n",
      "dtypes: bool(3), float64(3), int64(1), object(3)\n",
      "memory usage: 111.5+ KB\n"
     ]
    }
   ],
   "source": [
    "# Check datatypes of columns in df2_clean visually\n",
    "df2_clean.info()"
   ]
  },
  {
   "cell_type": "code",
   "execution_count": 350,
   "metadata": {},
   "outputs": [
    {
     "name": "stdout",
     "output_type": "stream",
     "text": [
      "<class 'pandas.core.frame.DataFrame'>\n",
      "Int64Index: 2152 entries, 0 to 2355\n",
      "Data columns (total 5 columns):\n",
      " #   Column              Non-Null Count  Dtype \n",
      "---  ------              --------------  ----- \n",
      " 0   tweet_id            2152 non-null   int64 \n",
      " 1   rating_numerator    2152 non-null   int64 \n",
      " 2   rating_denominator  2152 non-null   int64 \n",
      " 3   name                2152 non-null   object\n",
      " 4   type                2152 non-null   object\n",
      "dtypes: int64(3), object(2)\n",
      "memory usage: 84.1+ KB\n"
     ]
    }
   ],
   "source": [
    "# Check datatypes of columns in df2_clean visually\n",
    "df3_clean.info()"
   ]
  },
  {
   "cell_type": "code",
   "execution_count": 351,
   "metadata": {},
   "outputs": [
    {
     "name": "stdout",
     "output_type": "stream",
     "text": [
      "True\n"
     ]
    }
   ],
   "source": [
    "# No more unrealistic values in df3_clean columns 'rating_numerator' and 'rating_denominator'?\n",
    "if df3_clean.rating_numerator.max() <= 20 and df3_clean.rating_denominator.max() == 10:\n",
    "    print(True)\n",
    "else:\n",
    "    print(False)"
   ]
  },
  {
   "cell_type": "markdown",
   "metadata": {},
   "source": [
    "#### III. Aditional changes\n",
    "- Restructure columns in df1_clean and df3_clean to impove readability\n",
    "- Reset indices in df1_clean, df2_clean and and df3_clean"
   ]
  },
  {
   "cell_type": "code",
   "execution_count": 355,
   "metadata": {},
   "outputs": [],
   "source": [
    "# Restructure columns in df1\n",
    "df1_clean = df1_clean[['tweet_id', 'timestamp', 'text', 'favourite_count', 'retweet_count', 'number_of_images', 'source', \n",
    "                       'expanded_urls', 'image_url']]"
   ]
  },
  {
   "cell_type": "code",
   "execution_count": 356,
   "metadata": {},
   "outputs": [],
   "source": [
    "# Restructure columns in df3\n",
    "df3_clean = df3_clean[['tweet_id', 'name', 'type', 'rating_numerator', 'rating_denominator']]"
   ]
  },
  {
   "cell_type": "code",
   "execution_count": 358,
   "metadata": {},
   "outputs": [
    {
     "data": {
      "text/html": [
       "<div>\n",
       "<style scoped>\n",
       "    .dataframe tbody tr th:only-of-type {\n",
       "        vertical-align: middle;\n",
       "    }\n",
       "\n",
       "    .dataframe tbody tr th {\n",
       "        vertical-align: top;\n",
       "    }\n",
       "\n",
       "    .dataframe thead th {\n",
       "        text-align: right;\n",
       "    }\n",
       "</style>\n",
       "<table border=\"1\" class=\"dataframe\">\n",
       "  <thead>\n",
       "    <tr style=\"text-align: right;\">\n",
       "      <th></th>\n",
       "      <th>tweet_id</th>\n",
       "      <th>name</th>\n",
       "      <th>type</th>\n",
       "      <th>rating_numerator</th>\n",
       "      <th>rating_denominator</th>\n",
       "    </tr>\n",
       "  </thead>\n",
       "  <tbody>\n",
       "    <tr>\n",
       "      <th>0</th>\n",
       "      <td>892420643555336193</td>\n",
       "      <td>Phineas</td>\n",
       "      <td>None</td>\n",
       "      <td>13</td>\n",
       "      <td>10</td>\n",
       "    </tr>\n",
       "    <tr>\n",
       "      <th>1</th>\n",
       "      <td>892177421306343426</td>\n",
       "      <td>Tilly</td>\n",
       "      <td>None</td>\n",
       "      <td>13</td>\n",
       "      <td>10</td>\n",
       "    </tr>\n",
       "    <tr>\n",
       "      <th>2</th>\n",
       "      <td>891815181378084864</td>\n",
       "      <td>Archie</td>\n",
       "      <td>None</td>\n",
       "      <td>12</td>\n",
       "      <td>10</td>\n",
       "    </tr>\n",
       "    <tr>\n",
       "      <th>3</th>\n",
       "      <td>891689557279858688</td>\n",
       "      <td>Darla</td>\n",
       "      <td>None</td>\n",
       "      <td>13</td>\n",
       "      <td>10</td>\n",
       "    </tr>\n",
       "    <tr>\n",
       "      <th>4</th>\n",
       "      <td>891327558926688256</td>\n",
       "      <td>Franklin</td>\n",
       "      <td>None</td>\n",
       "      <td>12</td>\n",
       "      <td>10</td>\n",
       "    </tr>\n",
       "    <tr>\n",
       "      <th>...</th>\n",
       "      <td>...</td>\n",
       "      <td>...</td>\n",
       "      <td>...</td>\n",
       "      <td>...</td>\n",
       "      <td>...</td>\n",
       "    </tr>\n",
       "    <tr>\n",
       "      <th>2147</th>\n",
       "      <td>666049248165822465</td>\n",
       "      <td>None</td>\n",
       "      <td>None</td>\n",
       "      <td>5</td>\n",
       "      <td>10</td>\n",
       "    </tr>\n",
       "    <tr>\n",
       "      <th>2148</th>\n",
       "      <td>666044226329800704</td>\n",
       "      <td>a</td>\n",
       "      <td>None</td>\n",
       "      <td>6</td>\n",
       "      <td>10</td>\n",
       "    </tr>\n",
       "    <tr>\n",
       "      <th>2149</th>\n",
       "      <td>666033412701032449</td>\n",
       "      <td>a</td>\n",
       "      <td>None</td>\n",
       "      <td>9</td>\n",
       "      <td>10</td>\n",
       "    </tr>\n",
       "    <tr>\n",
       "      <th>2150</th>\n",
       "      <td>666029285002620928</td>\n",
       "      <td>a</td>\n",
       "      <td>None</td>\n",
       "      <td>7</td>\n",
       "      <td>10</td>\n",
       "    </tr>\n",
       "    <tr>\n",
       "      <th>2151</th>\n",
       "      <td>666020888022790149</td>\n",
       "      <td>None</td>\n",
       "      <td>None</td>\n",
       "      <td>8</td>\n",
       "      <td>10</td>\n",
       "    </tr>\n",
       "  </tbody>\n",
       "</table>\n",
       "<p>2152 rows × 5 columns</p>\n",
       "</div>"
      ],
      "text/plain": [
       "                tweet_id      name  type  rating_numerator  rating_denominator\n",
       "0     892420643555336193   Phineas  None                13                  10\n",
       "1     892177421306343426     Tilly  None                13                  10\n",
       "2     891815181378084864    Archie  None                12                  10\n",
       "3     891689557279858688     Darla  None                13                  10\n",
       "4     891327558926688256  Franklin  None                12                  10\n",
       "...                  ...       ...   ...               ...                 ...\n",
       "2147  666049248165822465      None  None                 5                  10\n",
       "2148  666044226329800704         a  None                 6                  10\n",
       "2149  666033412701032449         a  None                 9                  10\n",
       "2150  666029285002620928         a  None                 7                  10\n",
       "2151  666020888022790149      None  None                 8                  10\n",
       "\n",
       "[2152 rows x 5 columns]"
      ]
     },
     "execution_count": 358,
     "metadata": {},
     "output_type": "execute_result"
    }
   ],
   "source": [
    "# Reset indices in dataframes\n",
    "df1_clean.reset_index(drop=True)\n",
    "df2_clean.reset_index(drop=True)\n",
    "df3_clean.reset_index(drop=True)"
   ]
  },
  {
   "cell_type": "markdown",
   "metadata": {},
   "source": [
    "#### III. Saving as csv file\n",
    "- Dataframe df1_clean gets stored as csv named 'twitter_archive_master.csv'\n",
    "- Dataframes df2_clean and df3_clean are stored csv named 'twitter_archive_predictions' and 'twitter_archive_dog_ratings'"
   ]
  },
  {
   "cell_type": "code",
   "execution_count": 466,
   "metadata": {},
   "outputs": [],
   "source": [
    "# Save dataframes as csv\n",
    "df1_clean.to_csv('twitter_archive_master.csv')\n",
    "df2_clean.to_csv('twitter_archive_predictions.csv')\n",
    "df3_clean.to_csv('twitter_archive_dog_ratings.csv')"
   ]
  },
  {
   "cell_type": "markdown",
   "metadata": {},
   "source": [
    "<a id='analysis'></a>\n",
    "## Data Analysis\n",
    "Subsequently general patterns in the data are detected and relationships in the data are visualized.\n",
    "\n",
    "#### I. Dataframe `df1`"
   ]
  },
  {
   "cell_type": "code",
   "execution_count": 407,
   "metadata": {},
   "outputs": [
    {
     "data": {
      "text/plain": [
       "count     1987.000000\n",
       "mean      2466.360342\n",
       "std       4413.594760\n",
       "min         11.000000\n",
       "25%        552.000000\n",
       "50%       1193.000000\n",
       "75%       2801.500000\n",
       "max      78190.000000\n",
       "Name: retweet_count, dtype: float64"
      ]
     },
     "execution_count": 407,
     "metadata": {},
     "output_type": "execute_result"
    }
   ],
   "source": [
    "# Checking values in column 'retweet_count'\n",
    "df1_clean.retweet_count.describe()"
   ]
  },
  {
   "cell_type": "code",
   "execution_count": 408,
   "metadata": {},
   "outputs": [
    {
     "data": {
      "text/plain": [
       "count      1987.000000\n",
       "mean       8308.495219\n",
       "std       12226.123511\n",
       "min          72.000000\n",
       "25%        1786.500000\n",
       "50%        3762.000000\n",
       "75%       10328.000000\n",
       "max      156910.000000\n",
       "Name: favourite_count, dtype: float64"
      ]
     },
     "execution_count": 408,
     "metadata": {},
     "output_type": "execute_result"
    }
   ],
   "source": [
    "# Checking values in column 'favourite_count'\n",
    "df1_clean.favourite_count.describe()"
   ]
  },
  {
   "cell_type": "code",
   "execution_count": 413,
   "metadata": {},
   "outputs": [
    {
     "data": {
      "image/png": "[encoded data removed]",
      "text/plain": [
       "<Figure size 432x288 with 1 Axes>"
      ]
     },
     "metadata": {
      "needs_background": "light"
     },
     "output_type": "display_data"
    }
   ],
   "source": [
    "# Creating scatterplot from 'favourite_count' and 'retweet_count'\n",
    "plt.scatter(df1_clean['favourite_count'], df1_clean['retweet_count'])\n",
    "plt.title('Scatterplot favourite_count vs. retweet_count')\n",
    "plt.xlabel('favourite_count')\n",
    "plt.ylabel('retweet_count');"
   ]
  },
  {
   "cell_type": "markdown",
   "metadata": {},
   "source": [
    "#### I. Dataframe `df3`"
   ]
  },
  {
   "cell_type": "code",
   "execution_count": 451,
   "metadata": {},
   "outputs": [
    {
     "name": "stdout",
     "output_type": "stream",
     "text": [
      "['None', 'a', 'Lucy', 'Charlie', 'Cooper', 'Oliver', 'Penny', 'Tucker', 'the', 'Sadie']\n"
     ]
    }
   ],
   "source": [
    "# Dog with frequency >10 in the dataset\n",
    "n = 10\n",
    "names_list = []\n",
    "names_list = df3_clean['name'].value_counts()[:n].index.tolist()\n",
    "print(names_list)"
   ]
  },
  {
   "cell_type": "code",
   "execution_count": 452,
   "metadata": {},
   "outputs": [],
   "source": [
    "# Removal of Noname and names occurring due to typing errors or similar\n",
    "typing_errors = ['None', 'a', 'the']\n",
    "\n",
    "for c in typing_errors:\n",
    "    names_list.remove(c)"
   ]
  },
  {
   "cell_type": "code",
   "execution_count": 461,
   "metadata": {},
   "outputs": [
    {
     "name": "stdout",
     "output_type": "stream",
     "text": [
      "[11, 11, 10, 10, 9, 9, 8]\n"
     ]
    }
   ],
   "source": [
    "# Frequency of dog names in df3_clean\n",
    "names_count = []\n",
    "for c in names_list:\n",
    "    names_count.append(df3_clean.query('name == \"{}\"'.format(c)).tweet_id.count())\n",
    "print(names_count)"
   ]
  },
  {
   "cell_type": "code",
   "execution_count": 462,
   "metadata": {},
   "outputs": [
    {
     "data": {
      "image/png": "[encoded data removed]",
      "text/plain": [
       "<Figure size 432x288 with 1 Axes>"
      ]
     },
     "metadata": {
      "needs_background": "light"
     },
     "output_type": "display_data"
    }
   ],
   "source": [
    "plt.bar(names_list, names_count)\n",
    "plt.title('Bar chart: Most frequent dog names')\n",
    "plt.xlabel('dog names')\n",
    "plt.ylabel('frequency');"
   ]
  },
  {
   "cell_type": "code",
   "execution_count": 383,
   "metadata": {},
   "outputs": [],
   "source": [
    "# Creating new column 'rating' ind df3_clean\n",
    "df3_clean['rating'] = df3_clean['rating_numerator']/df3_clean['rating_denominator']"
   ]
  },
  {
   "cell_type": "code",
   "execution_count": 460,
   "metadata": {},
   "outputs": [
    {
     "name": "stdout",
     "output_type": "stream",
     "text": [
      "[1.1853333333333331, 1.0751072961373391, 1.2080000000000002, 1.18, 1.0517412935323383]\n"
     ]
    }
   ],
   "source": [
    "# Calculating mean ratings for dog types from dataset\n",
    "dog_types = ['doggo', 'pupper', 'puppo', 'floofer', 'None']\n",
    "dog_mean_ratings = []\n",
    "\n",
    "for c in dog_types:\n",
    "    dog_mean_ratings.append(df3_clean.query('type == \"{}\"'.format(c)).rating.mean())\n",
    "print(dog_mean_ratings)"
   ]
  },
  {
   "cell_type": "code",
   "execution_count": 467,
   "metadata": {},
   "outputs": [
    {
     "data": {
      "image/png": "[encoded data removed]",
      "text/plain": [
       "<Figure size 432x288 with 1 Axes>"
      ]
     },
     "metadata": {
      "needs_background": "light"
     },
     "output_type": "display_data"
    }
   ],
   "source": [
    "# Creating bar chart with dog types and mean ratings\n",
    "plt.bar(dog_types, dog_mean_ratings)\n",
    "plt.title('Bar chart: Rating according to dog type')\n",
    "plt.xlabel('dog type')\n",
    "plt.ylabel('mean rating');"
   ]
  },
  {
   "cell_type": "markdown",
   "metadata": {},
   "source": [
    "<a id='insights'></a>\n",
    "## Insights\n",
    "\n",
    "**I. Positive corelation between 'favourite_count' and retweet_count':** In WeRateDogs dataset there is a possitive correlation between 'favourite_count' and retweet_count' which signifies that as a tweet with increasing number of likes (favourites) als gets retweeted more frequently.\n",
    "\n",
    "**II. Most frequent dog names:** The most frequent dog names in the WeRateDogs tweets which (typing error caused names and 'none excluded) are 'Lucy', 'Charlie', 'Cooper', 'Oliver', 'Penny', 'Tucker', and 'Sadie'. Every one of those names occurred at least 10 times in the dataset.\n",
    "\n",
    "**III. Highest rated dog type:** WeRate dog categorizes dogs according to specific categories. Those are 'doggo', 'pupper', 'puppo' and 'floofer'. In the dataset the type 'puppo' is in average the highest rated dog type with a mean rating of 1.21 (about 12/10)."
   ]
  }
 ],
 "metadata": {
  "kernelspec": {
   "display_name": "Python 3",
   "language": "python",
   "name": "python3"
  },
  "language_info": {
   "codemirror_mode": {
    "name": "ipython",
    "version": 3
   },
   "file_extension": ".py",
   "mimetype": "text/x-python",
   "name": "python",
   "nbconvert_exporter": "python",
   "pygments_lexer": "ipython3",
   "version": "3.8.2"
  }
 },
 "nbformat": 4,
 "nbformat_minor": 4
}
